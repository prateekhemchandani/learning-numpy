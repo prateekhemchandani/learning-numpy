{
 "cells": [
  {
   "cell_type": "markdown",
   "id": "45e9fb26",
   "metadata": {},
   "source": [
    "## Numpy array ops"
   ]
  },
  {
   "cell_type": "code",
   "execution_count": 1,
   "id": "337d0b59",
   "metadata": {},
   "outputs": [],
   "source": [
    "import numpy as np"
   ]
  },
  {
   "cell_type": "code",
   "execution_count": null,
   "id": "f1fa5d5d",
   "metadata": {},
   "outputs": [
    {
     "name": "stdout",
     "output_type": "stream",
     "text": [
      "Basic slicing : [2 3 4 5 6 7]\n",
      "Stepping:  [2 4 6]\n",
      "Negative marking: 8\n"
     ]
    }
   ],
   "source": [
    "arr = np.array([1,2,3,4,5,6,7,8,9,10])\n",
    "print(\"Basic slicing :\", arr[1:7])\n",
    "print(\"Stepping: \", arr[1:7:2])\n",
    "print(\"Negative marking:\", arr[-3])\n"
   ]
  },
  {
   "cell_type": "code",
   "execution_count": 10,
   "id": "9cbaa486",
   "metadata": {},
   "outputs": [
    {
     "name": "stdout",
     "output_type": "stream",
     "text": [
      "2D Array:\n",
      " [[1 2 3]\n",
      " [4 5 6]\n",
      " [7 8 9]]\n",
      "Entire row (middle row) [4 5 6]\n",
      "Entire column (middle column) [2 5 8]\n"
     ]
    }
   ],
   "source": [
    "arr_2d=np.array([[1,2,3],[4,5,6],[7,8,9]])\n",
    "print(\"2D Array:\\n\", arr_2d)\n",
    "print(\"Entire row (middle row)\", arr_2d[1])\n",
    "print(\"Entire column (middle column)\", arr_2d[:,1])"
   ]
  },
  {
   "cell_type": "markdown",
   "id": "18493c2d",
   "metadata": {},
   "source": [
    "## Sorting"
   ]
  },
  {
   "cell_type": "code",
   "execution_count": null,
   "id": "2d069f20",
   "metadata": {},
   "outputs": [
    {
     "name": "stdout",
     "output_type": "stream",
     "text": [
      "Unsorted array: [4 1 3 2] \n",
      "Sorted array: [1 2 3 4]\n"
     ]
    }
   ],
   "source": [
    "unsorted = np.array([4,1,3,2])\n",
    "sorted = np.sort(unsorted)\n",
    "print(\"Unsorted array:\", unsorted , \"\\nSorted array:\", sorted)\n",
    "#In 2D array sorting, axis=0 sorts each column, and axis=1 sorts each row independently."
   ]
  },
  {
   "cell_type": "markdown",
   "id": "940bdcfd",
   "metadata": {},
   "source": [
    "## Filtering"
   ]
  },
  {
   "cell_type": "code",
   "execution_count": null,
   "id": "1ec8af9b",
   "metadata": {},
   "outputs": [
    {
     "name": "stdout",
     "output_type": "stream",
     "text": [
      "Even array:  [ 2  4  6  8 10]\n"
     ]
    }
   ],
   "source": [
    "arr = np.array([1,2,3,4,5,6,7,8,9,10])\n",
    "even_array = arr[arr%2 == 0]\n",
    "print(\"Even array: \", even_array)"
   ]
  },
  {
   "cell_type": "code",
   "execution_count": 16,
   "id": "3b587c18",
   "metadata": {},
   "outputs": [
    {
     "name": "stdout",
     "output_type": "stream",
     "text": [
      "[ 6  7  8  9 10]\n"
     ]
    }
   ],
   "source": [
    "#Filtering with mask\n",
    "mask = arr>5\n",
    "masked_array = arr[mask]\n",
    "print(masked_array)"
   ]
  },
  {
   "cell_type": "markdown",
   "id": "6e1d30ee",
   "metadata": {},
   "source": [
    "## Fancy indexing ---- np.where() conditions"
   ]
  },
  {
   "cell_type": "code",
   "execution_count": 17,
   "id": "41db028b",
   "metadata": {},
   "outputs": [
    {
     "name": "stdout",
     "output_type": "stream",
     "text": [
      "[1 3 5]\n"
     ]
    }
   ],
   "source": [
    "indices = [0,2,4]\n",
    "print (arr[indices])"
   ]
  },
  {
   "cell_type": "code",
   "execution_count": 20,
   "id": "b1b0f971",
   "metadata": {},
   "outputs": [
    {
     "name": "stdout",
     "output_type": "stream",
     "text": [
      "[ 6  7  8  9 10]\n"
     ]
    }
   ],
   "source": [
    "where_res = np.where(arr>5)\n",
    "print(arr[where_res])"
   ]
  },
  {
   "cell_type": "code",
   "execution_count": null,
   "id": "1d9aa1f8",
   "metadata": {},
   "outputs": [
    {
     "name": "stdout",
     "output_type": "stream",
     "text": [
      "[ 0.5  1.   1.5  2.   2.5 12.  14.  16.  18.  20. ]\n"
     ]
    }
   ],
   "source": [
    "condition = np.where(arr>5, arr*2, arr/2)\n",
    "print(condition)\n",
    "\n",
    "# Above line is equivalent to:\n",
    "# if(arr>5) arr*2\n",
    "# else arr/2"
   ]
  },
  {
   "cell_type": "markdown",
   "id": "cbc738b7",
   "metadata": {},
   "source": [
    "## Add or remove data"
   ]
  },
  {
   "cell_type": "code",
   "execution_count": 26,
   "id": "13479e3b",
   "metadata": {},
   "outputs": [
    {
     "name": "stdout",
     "output_type": "stream",
     "text": [
      "[1 2 3 4 5 6]\n",
      "[1 2 4 5 6]\n"
     ]
    }
   ],
   "source": [
    "arr1=np.array([1,2,3])\n",
    "arr2=np.array([4,5,6])\n",
    "arr3=np.concatenate((arr1,arr2))\n",
    "print(arr3)\n",
    "arr4=np.delete(arr3,2)\n",
    "print(arr4)"
   ]
  }
 ],
 "metadata": {
  "kernelspec": {
   "display_name": ".venv",
   "language": "python",
   "name": "python3"
  },
  "language_info": {
   "codemirror_mode": {
    "name": "ipython",
    "version": 3
   },
   "file_extension": ".py",
   "mimetype": "text/x-python",
   "name": "python",
   "nbconvert_exporter": "python",
   "pygments_lexer": "ipython3",
   "version": "3.12.1"
  }
 },
 "nbformat": 4,
 "nbformat_minor": 5
}
