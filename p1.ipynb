{
 "cells": [
  {
   "cell_type": "markdown",
   "id": "cc62cb72",
   "metadata": {},
   "source": [
    "# Numpy array and basics"
   ]
  },
  {
   "cell_type": "code",
   "execution_count": 2,
   "id": "b923a6c8",
   "metadata": {},
   "outputs": [],
   "source": [
    "import numpy as np"
   ]
  },
  {
   "cell_type": "markdown",
   "id": "ae875826",
   "metadata": {},
   "source": [
    "### Creating array from list"
   ]
  },
  {
   "cell_type": "code",
   "execution_count": 4,
   "id": "cd195f8a",
   "metadata": {},
   "outputs": [
    {
     "name": "stdout",
     "output_type": "stream",
     "text": [
      "[1 2 3 4 5]\n",
      "[[1 2 3]\n",
      " [4 5 6]]\n"
     ]
    }
   ],
   "source": [
    "arr_1d = np.array([1,2,3,4,5])\n",
    "print(arr_1d)\n",
    "\n",
    "arr_2d = np.array([[1,2,3],[4,5,6]])\n",
    "print(arr_2d)"
   ]
  },
  {
   "cell_type": "markdown",
   "id": "0f6fda84",
   "metadata": {},
   "source": [
    "### List v numpy"
   ]
  },
  {
   "cell_type": "code",
   "execution_count": 8,
   "id": "4850ce3a",
   "metadata": {},
   "outputs": [
    {
     "name": "stdout",
     "output_type": "stream",
     "text": [
      "List multiplication by 2: [1, 2, 3, 4, 5, 1, 2, 3, 4, 5]\n",
      "Numpy array multiplication by 2: [ 2  4  6  8 10]\n",
      "List operation time: 0.1024017333984375\n",
      "Numpy array operation time: 0.11255741119384766\n"
     ]
    }
   ],
   "source": [
    "py_list = [1, 2, 3, 4, 5]\n",
    "print(\"List multiplication by 2:\", py_list * 2)\n",
    "\n",
    "np_arr = np.array([1, 2, 3, 4, 5]) #element-wise multiplication\n",
    "print(\"Numpy array multiplication by 2:\", np_arr * 2)\n",
    "\n",
    "import time \n",
    "\n",
    "start_time = time.time()\n",
    "py_list = [i*2 for i in range (1000000)]\n",
    "print(\"List operation time:\", time.time() - start_time)\n",
    "\n",
    "start_time = time.time()\n",
    "np_arr = np.array([i*2 for i in range (1000000)])\n",
    "print(\"Numpy array operation time:\", time.time() - start_time)"
   ]
  },
  {
   "cell_type": "markdown",
   "id": "3bf59da6",
   "metadata": {},
   "source": [
    "### Array creation from scratch"
   ]
  },
  {
   "cell_type": "code",
   "execution_count": 15,
   "id": "feecb93b",
   "metadata": {},
   "outputs": [
    {
     "name": "stdout",
     "output_type": "stream",
     "text": [
      "[[0. 0. 0. 0.]\n",
      " [0. 0. 0. 0.]\n",
      " [0. 0. 0. 0.]]\n",
      "[[1. 1.]\n",
      " [1. 1.]]\n",
      "[[10 10]\n",
      " [10 10]]\n",
      "[[0.26933856 0.63163054 0.1088008 ]\n",
      " [0.69861868 0.425211   0.66843139]\n",
      " [0.2892294  0.4603321  0.59489062]]\n",
      "[ 0  2  4  6  8 10]\n"
     ]
    }
   ],
   "source": [
    "zeros = np.zeros((3,4))\n",
    "print(zeros)\n",
    "\n",
    "ones = np.ones((2,2))\n",
    "print(ones)\n",
    "\n",
    "full = np.full((2,2),10)\n",
    "print(full)\n",
    "\n",
    "random = np.random.random((3,3))\n",
    "print(random)\n",
    "\n",
    "sequence = np.arange(0,11,2)\n",
    "print(sequence)"
   ]
  },
  {
   "cell_type": "markdown",
   "id": "6291ab9b",
   "metadata": {},
   "source": [
    "### Vector, matrix, tensor"
   ]
  },
  {
   "cell_type": "code",
   "execution_count": 24,
   "id": "e6a288de",
   "metadata": {},
   "outputs": [
    {
     "name": "stdout",
     "output_type": "stream",
     "text": [
      "[[[ 1  2  3]\n",
      "  [ 4  5  6]]\n",
      "\n",
      " [[ 7  8  9]\n",
      "  [10 11 12]]]\n"
     ]
    }
   ],
   "source": [
    "vector = np.array([1,2,3])\n",
    "matrix = np.array([[1,2,3],[4,5,6]])\n",
    "tensor = np.array([[[1, 2, 3], [4, 5, 6]],[[7, 8, 9], [10, 11, 12]]])\n",
    "\n",
    "print(tensor)"
   ]
  },
  {
   "cell_type": "markdown",
   "id": "0e6d4339",
   "metadata": {},
   "source": [
    "### Arrayn properties"
   ]
  },
  {
   "cell_type": "code",
   "execution_count": 25,
   "id": "5bed645f",
   "metadata": {},
   "outputs": [
    {
     "name": "stdout",
     "output_type": "stream",
     "text": [
      "Shape (2, 3)\n",
      "Dimension 2\n",
      "Data type int64\n",
      "Size 6\n"
     ]
    }
   ],
   "source": [
    "arr=np.array([[1,2,3],[4,5,6]])\n",
    "print(\"Shape\", arr.shape)\n",
    "print(\"Dimension\", arr.ndim)\n",
    "print(\"Data type\", arr.dtype)\n",
    "print(\"Size\", arr.size)"
   ]
  },
  {
   "cell_type": "markdown",
   "id": "929d06f1",
   "metadata": {},
   "source": [
    "## Array reshaping"
   ]
  },
  {
   "cell_type": "code",
   "execution_count": 32,
   "id": "bf0fd612",
   "metadata": {},
   "outputs": [
    {
     "name": "stdout",
     "output_type": "stream",
     "text": [
      "Original  [1 2 3 4 5 6 7 8 9]\n",
      "[[1 2 3]\n",
      " [4 5 6]\n",
      " [7 8 9]]\n",
      "[1 2 3 4 5 6 7 8 9]\n",
      "[1 2 3 4 5 6 7 8 9]\n",
      "[[1 4 7]\n",
      " [2 5 8]\n",
      " [3 6 9]]\n"
     ]
    }
   ],
   "source": [
    "arr=np.arange(1,10)\n",
    "print(\"Original \", arr)\n",
    "\n",
    "reshape = arr.reshape(3,3)\n",
    "print(reshape)\n",
    "\n",
    "flattened = reshape.flatten()\n",
    "print(flattened)\n",
    "\n",
    "#returns view instead of copy\n",
    "raveled = reshape.ravel()\n",
    "print(raveled)\n",
    "\n",
    "transposed = reshape.T\n",
    "print(transposed)\n"
   ]
  }
 ],
 "metadata": {
  "kernelspec": {
   "display_name": ".venv",
   "language": "python",
   "name": "python3"
  },
  "language_info": {
   "codemirror_mode": {
    "name": "ipython",
    "version": 3
   },
   "file_extension": ".py",
   "mimetype": "text/x-python",
   "name": "python",
   "nbconvert_exporter": "python",
   "pygments_lexer": "ipython3",
   "version": "3.12.1"
  }
 },
 "nbformat": 4,
 "nbformat_minor": 5
}
